{
 "cells": [
  {
   "cell_type": "markdown",
   "id": "simplified-container",
   "metadata": {},
   "source": [
    "# NUMPY "
   ]
  },
  {
   "cell_type": "markdown",
   "id": "super-grounds",
   "metadata": {},
   "source": [
    "## Why Numpy "
   ]
  },
  {
   "cell_type": "code",
   "execution_count": 1,
   "id": "experimental-essay",
   "metadata": {},
   "outputs": [],
   "source": [
    "# Numpy is a python library just as the list in python, but it is used more often as campare to the python list because --\n",
    "# 1) Numpy is written in C languge, a really fast language so numpy does the work fast as compare to list \n",
    "# 2) Machine only knows the binary language and with numpy its really easy to convert data to binary\n",
    "# 3) Numpy do vectorisation via broadcasting (easily speaking it avoid loops)\n",
    "# These reasons makes numpy suitable for machine learning and data science "
   ]
  },
  {
   "cell_type": "code",
   "execution_count": 2,
   "id": "norwegian-stake",
   "metadata": {},
   "outputs": [],
   "source": [
    "import numpy as np "
   ]
  },
  {
   "cell_type": "markdown",
   "id": "resident-strap",
   "metadata": {},
   "source": [
    "## 1) Datatypes and Attributes "
   ]
  },
  {
   "cell_type": "code",
   "execution_count": 3,
   "id": "casual-iceland",
   "metadata": {},
   "outputs": [
    {
     "data": {
      "text/plain": [
       "array([1, 2, 3])"
      ]
     },
     "execution_count": 3,
     "metadata": {},
     "output_type": "execute_result"
    }
   ],
   "source": [
    "# numpy basic data type is a ndarray \n",
    "array = np.array([1,2,3])\n",
    "array"
   ]
  },
  {
   "cell_type": "code",
   "execution_count": 4,
   "id": "handled-drilling",
   "metadata": {},
   "outputs": [
    {
     "data": {
      "text/plain": [
       "numpy.ndarray"
      ]
     },
     "execution_count": 4,
     "metadata": {},
     "output_type": "execute_result"
    }
   ],
   "source": [
    "type(array)"
   ]
  },
  {
   "cell_type": "code",
   "execution_count": 5,
   "id": "helpful-glucose",
   "metadata": {},
   "outputs": [
    {
     "data": {
      "text/plain": [
       "array([[1, 2, 3],\n",
       "       [2, 3, 4]])"
      ]
     },
     "execution_count": 5,
     "metadata": {},
     "output_type": "execute_result"
    }
   ],
   "source": [
    "# 2 dimensional array \n",
    "array_2 = np.array([[1,2,3],\n",
    "                  [2,3,4]])\n",
    "array_2"
   ]
  },
  {
   "cell_type": "code",
   "execution_count": 6,
   "id": "closing-interpretation",
   "metadata": {},
   "outputs": [
    {
     "data": {
      "text/plain": [
       "(2, 3)"
      ]
     },
     "execution_count": 6,
     "metadata": {},
     "output_type": "execute_result"
    }
   ],
   "source": [
    "# Shape is an attribute to check the rows and columns of the array \n",
    "array_2.shape"
   ]
  },
  {
   "cell_type": "code",
   "execution_count": 7,
   "id": "nearby-music",
   "metadata": {},
   "outputs": [
    {
     "data": {
      "text/plain": [
       "array([[1, 2, 3],\n",
       "       [2, 3, 4],\n",
       "       [3, 4, 5]])"
      ]
     },
     "execution_count": 7,
     "metadata": {},
     "output_type": "execute_result"
    }
   ],
   "source": [
    "array_3 = np.array([[1,2,3],\n",
    "                   [2,3,4],\n",
    "                   [3,4,5]])\n",
    "array_3"
   ]
  },
  {
   "cell_type": "code",
   "execution_count": 8,
   "id": "intensive-correspondence",
   "metadata": {},
   "outputs": [
    {
     "data": {
      "text/plain": [
       "(3, 3)"
      ]
     },
     "execution_count": 8,
     "metadata": {},
     "output_type": "execute_result"
    }
   ],
   "source": [
    "array_3.shape "
   ]
  },
  {
   "cell_type": "code",
   "execution_count": 9,
   "id": "associate-offense",
   "metadata": {},
   "outputs": [],
   "source": [
    "# A 3 dimensional array \n",
    "array_4 = np.array([[[1,2,3],\n",
    "                   [2,3,4]], \n",
    "                   \n",
    "                   [[12,13,14],\n",
    "                    [1,2,3]]])"
   ]
  },
  {
   "cell_type": "code",
   "execution_count": 10,
   "id": "satisfied-celtic",
   "metadata": {},
   "outputs": [
    {
     "data": {
      "text/plain": [
       "array([[[ 1,  2,  3],\n",
       "        [ 2,  3,  4]],\n",
       "\n",
       "       [[12, 13, 14],\n",
       "        [ 1,  2,  3]]])"
      ]
     },
     "execution_count": 10,
     "metadata": {},
     "output_type": "execute_result"
    }
   ],
   "source": [
    "array_4"
   ]
  },
  {
   "cell_type": "code",
   "execution_count": 11,
   "id": "proof-given",
   "metadata": {},
   "outputs": [
    {
     "data": {
      "text/plain": [
       "(2, 2, 3)"
      ]
     },
     "execution_count": 11,
     "metadata": {},
     "output_type": "execute_result"
    }
   ],
   "source": [
    "array_4.shape"
   ]
  },
  {
   "cell_type": "code",
   "execution_count": 12,
   "id": "tracked-application",
   "metadata": {},
   "outputs": [
    {
     "data": {
      "text/plain": [
       "(3,)"
      ]
     },
     "execution_count": 12,
     "metadata": {},
     "output_type": "execute_result"
    }
   ],
   "source": [
    "array.shape"
   ]
  },
  {
   "cell_type": "code",
   "execution_count": 13,
   "id": "protected-provider",
   "metadata": {},
   "outputs": [
    {
     "data": {
      "text/plain": [
       "(1, 2, 3)"
      ]
     },
     "execution_count": 13,
     "metadata": {},
     "output_type": "execute_result"
    }
   ],
   "source": [
    "# ndim is a attribute to check the dimension of the array \n",
    "array.ndim , array_2.ndim , array_4.ndim"
   ]
  },
  {
   "cell_type": "code",
   "execution_count": 14,
   "id": "congressional-abraham",
   "metadata": {},
   "outputs": [
    {
     "name": "stdout",
     "output_type": "stream",
     "text": [
      "int32\n"
     ]
    },
    {
     "data": {
      "text/plain": [
       "3"
      ]
     },
     "execution_count": 14,
     "metadata": {},
     "output_type": "execute_result"
    }
   ],
   "source": [
    "# dtype to check the data type of the array \n",
    "# size to check the size of the arrary\n",
    "print(array.dtype)\n",
    "\n",
    "array.size"
   ]
  },
  {
   "cell_type": "code",
   "execution_count": 15,
   "id": "established-minister",
   "metadata": {},
   "outputs": [],
   "source": [
    "# Creating a dataframe from a numpy array \n",
    "import pandas as pd "
   ]
  },
  {
   "cell_type": "code",
   "execution_count": 16,
   "id": "photographic-square",
   "metadata": {},
   "outputs": [],
   "source": [
    "df = pd.DataFrame(array_3)"
   ]
  },
  {
   "cell_type": "code",
   "execution_count": 17,
   "id": "greenhouse-bunch",
   "metadata": {},
   "outputs": [
    {
     "data": {
      "text/html": [
       "<div>\n",
       "<style scoped>\n",
       "    .dataframe tbody tr th:only-of-type {\n",
       "        vertical-align: middle;\n",
       "    }\n",
       "\n",
       "    .dataframe tbody tr th {\n",
       "        vertical-align: top;\n",
       "    }\n",
       "\n",
       "    .dataframe thead th {\n",
       "        text-align: right;\n",
       "    }\n",
       "</style>\n",
       "<table border=\"1\" class=\"dataframe\">\n",
       "  <thead>\n",
       "    <tr style=\"text-align: right;\">\n",
       "      <th></th>\n",
       "      <th>0</th>\n",
       "      <th>1</th>\n",
       "      <th>2</th>\n",
       "    </tr>\n",
       "  </thead>\n",
       "  <tbody>\n",
       "    <tr>\n",
       "      <th>0</th>\n",
       "      <td>1</td>\n",
       "      <td>2</td>\n",
       "      <td>3</td>\n",
       "    </tr>\n",
       "    <tr>\n",
       "      <th>1</th>\n",
       "      <td>2</td>\n",
       "      <td>3</td>\n",
       "      <td>4</td>\n",
       "    </tr>\n",
       "    <tr>\n",
       "      <th>2</th>\n",
       "      <td>3</td>\n",
       "      <td>4</td>\n",
       "      <td>5</td>\n",
       "    </tr>\n",
       "  </tbody>\n",
       "</table>\n",
       "</div>"
      ],
      "text/plain": [
       "   0  1  2\n",
       "0  1  2  3\n",
       "1  2  3  4\n",
       "2  3  4  5"
      ]
     },
     "execution_count": 17,
     "metadata": {},
     "output_type": "execute_result"
    }
   ],
   "source": [
    "df "
   ]
  },
  {
   "cell_type": "markdown",
   "id": "sublime-details",
   "metadata": {},
   "source": [
    "## 2) Creating Numpy arrays "
   ]
  },
  {
   "cell_type": "code",
   "execution_count": 18,
   "id": "acting-airplane",
   "metadata": {},
   "outputs": [],
   "source": [
    "# \"ones is a function to create an array of 1 of your own size\"\n",
    "ones = np.ones((2,3), dtype = int )"
   ]
  },
  {
   "cell_type": "code",
   "execution_count": 19,
   "id": "underlying-poker",
   "metadata": {},
   "outputs": [
    {
     "data": {
      "text/plain": [
       "array([[1, 1, 1],\n",
       "       [1, 1, 1]])"
      ]
     },
     "execution_count": 19,
     "metadata": {},
     "output_type": "execute_result"
    }
   ],
   "source": [
    "ones "
   ]
  },
  {
   "cell_type": "code",
   "execution_count": 20,
   "id": "balanced-amazon",
   "metadata": {},
   "outputs": [],
   "source": [
    "# Use shift and tab and click on the function to see the documentation of the function "
   ]
  },
  {
   "cell_type": "code",
   "execution_count": 21,
   "id": "angry-asthma",
   "metadata": {},
   "outputs": [
    {
     "data": {
      "text/plain": [
       "numpy.ndarray"
      ]
     },
     "execution_count": 21,
     "metadata": {},
     "output_type": "execute_result"
    }
   ],
   "source": [
    "type(ones)"
   ]
  },
  {
   "cell_type": "code",
   "execution_count": 22,
   "id": "single-turning",
   "metadata": {},
   "outputs": [],
   "source": [
    "range_array = np.arange(0,10,2)"
   ]
  },
  {
   "cell_type": "code",
   "execution_count": 23,
   "id": "settled-madagascar",
   "metadata": {},
   "outputs": [
    {
     "data": {
      "text/plain": [
       "array([0, 2, 4, 6, 8])"
      ]
     },
     "execution_count": 23,
     "metadata": {},
     "output_type": "execute_result"
    }
   ],
   "source": [
    "# Function to create an array of the numbers in the given range \n",
    "range_array"
   ]
  },
  {
   "cell_type": "code",
   "execution_count": 24,
   "id": "medieval-explosion",
   "metadata": {},
   "outputs": [],
   "source": [
    "# random.randint is a function to create an array of the given size of with random number in the given range \n",
    "random_array = np.random.randint(0, 5 , size = (2,2))"
   ]
  },
  {
   "cell_type": "code",
   "execution_count": 25,
   "id": "funded-webmaster",
   "metadata": {},
   "outputs": [
    {
     "data": {
      "text/plain": [
       "array([[3, 2],\n",
       "       [4, 1]])"
      ]
     },
     "execution_count": 25,
     "metadata": {},
     "output_type": "execute_result"
    }
   ],
   "source": [
    "random_array"
   ]
  },
  {
   "cell_type": "code",
   "execution_count": 26,
   "id": "distributed-antenna",
   "metadata": {},
   "outputs": [
    {
     "data": {
      "text/plain": [
       "array([[0.86951814, 0.13931452],\n",
       "       [0.47257323, 0.57540563]])"
      ]
     },
     "execution_count": 26,
     "metadata": {},
     "output_type": "execute_result"
    }
   ],
   "source": [
    "# random.random is a function to create and array of given size with numbers in the range of  0 to 1 \n",
    "random__2 = np.random.random((2,2))\n",
    "random__2\n"
   ]
  },
  {
   "cell_type": "code",
   "execution_count": 27,
   "id": "fluid-thought",
   "metadata": {},
   "outputs": [],
   "source": [
    "# So the number generated by the computer are not actual random numbers, they are psuedo random numbers \n",
    "# i.e they are genrated by an algorithm and that algorithm is based upon a number (any number) known as the seed \n",
    "\n",
    "# So using the function random.seed () we can generate same set random number again and again "
   ]
  },
  {
   "cell_type": "code",
   "execution_count": 28,
   "id": "worthy-helicopter",
   "metadata": {},
   "outputs": [],
   "source": [
    "np.random.seed(7)\n",
    "random_number_2 = np.random.randint(0,5,size = (4,4))"
   ]
  },
  {
   "cell_type": "code",
   "execution_count": 29,
   "id": "conservative-trademark",
   "metadata": {},
   "outputs": [
    {
     "data": {
      "text/plain": [
       "array([[4, 1, 3, 3],\n",
       "       [4, 1, 0, 1],\n",
       "       [2, 2, 0, 4],\n",
       "       [0, 4, 0, 3]])"
      ]
     },
     "execution_count": 29,
     "metadata": {},
     "output_type": "execute_result"
    }
   ],
   "source": [
    "random_number_2"
   ]
  },
  {
   "cell_type": "markdown",
   "id": "important-butler",
   "metadata": {},
   "source": [
    "## 3) Viewing arrays and matrices "
   ]
  },
  {
   "cell_type": "code",
   "execution_count": 30,
   "id": "bulgarian-deputy",
   "metadata": {},
   "outputs": [
    {
     "data": {
      "text/plain": [
       "array([0, 1, 2, 3, 4])"
      ]
     },
     "execution_count": 30,
     "metadata": {},
     "output_type": "execute_result"
    }
   ],
   "source": [
    "# Function to find the unique number in an array \n",
    "np.unique(random_number_2)"
   ]
  },
  {
   "cell_type": "markdown",
   "id": "starting-payday",
   "metadata": {},
   "source": [
    "## 4) Manipulating Arrays "
   ]
  },
  {
   "cell_type": "markdown",
   "id": "little-narrative",
   "metadata": {},
   "source": [
    "### Arithemetic "
   ]
  },
  {
   "cell_type": "code",
   "execution_count": 31,
   "id": "green-activation",
   "metadata": {},
   "outputs": [],
   "source": [
    "# Adding two arrays \n",
    "one_array = np.array([1,2,3])"
   ]
  },
  {
   "cell_type": "code",
   "execution_count": 32,
   "id": "formed-transportation",
   "metadata": {},
   "outputs": [],
   "source": [
    "second_array = np.array([2,3,4])\n"
   ]
  },
  {
   "cell_type": "code",
   "execution_count": 33,
   "id": "abroad-merchant",
   "metadata": {},
   "outputs": [
    {
     "data": {
      "text/plain": [
       "array([3, 5, 7])"
      ]
     },
     "execution_count": 33,
     "metadata": {},
     "output_type": "execute_result"
    }
   ],
   "source": [
    "one_array + second_array "
   ]
  },
  {
   "cell_type": "code",
   "execution_count": 34,
   "id": "comparable-nerve",
   "metadata": {},
   "outputs": [
    {
     "data": {
      "text/plain": [
       "array([2, 3, 4])"
      ]
     },
     "execution_count": 34,
     "metadata": {},
     "output_type": "execute_result"
    }
   ],
   "source": [
    "one_array + 1 \n"
   ]
  },
  {
   "cell_type": "code",
   "execution_count": 35,
   "id": "crude-juice",
   "metadata": {},
   "outputs": [
    {
     "data": {
      "text/plain": [
       "array([3, 5, 5])"
      ]
     },
     "execution_count": 35,
     "metadata": {},
     "output_type": "execute_result"
    }
   ],
   "source": [
    "third_array = np.array ([2,3,2])\n",
    "one_array + third_array "
   ]
  },
  {
   "cell_type": "code",
   "execution_count": 36,
   "id": "flying-mauritius",
   "metadata": {},
   "outputs": [],
   "source": [
    "# All mathematical arithemetic can be done on arrays, the only condition is that the array should have the same dimensions "
   ]
  },
  {
   "cell_type": "code",
   "execution_count": 37,
   "id": "chief-hometown",
   "metadata": {},
   "outputs": [
    {
     "data": {
      "text/plain": [
       "array([0.5       , 0.66666667, 0.75      ])"
      ]
     },
     "execution_count": 37,
     "metadata": {},
     "output_type": "execute_result"
    }
   ],
   "source": [
    "one_array / second_array "
   ]
  },
  {
   "cell_type": "code",
   "execution_count": 38,
   "id": "interim-binary",
   "metadata": {},
   "outputs": [
    {
     "data": {
      "text/plain": [
       "array([0, 0, 0], dtype=int32)"
      ]
     },
     "execution_count": 38,
     "metadata": {},
     "output_type": "execute_result"
    }
   ],
   "source": [
    "## So now we are going to do floor division , i.e removing numbers after the decimal \n",
    "one_array// second_array"
   ]
  },
  {
   "cell_type": "code",
   "execution_count": 39,
   "id": "proud-closure",
   "metadata": {},
   "outputs": [],
   "source": [
    "# As you can see all the numbers are rounded off \n"
   ]
  },
  {
   "cell_type": "markdown",
   "id": "macro-pantyhose",
   "metadata": {},
   "source": [
    "### Aggregation "
   ]
  },
  {
   "cell_type": "code",
   "execution_count": 40,
   "id": "accomplished-webmaster",
   "metadata": {},
   "outputs": [
    {
     "data": {
      "text/plain": [
       "array([0.67433042, 0.67231727, 0.69403158, 0.34597294, 0.92952819,\n",
       "       0.26258377, 0.75076273, 0.25489406, 0.85129459, 0.17405276])"
      ]
     },
     "execution_count": 40,
     "metadata": {},
     "output_type": "execute_result"
    }
   ],
   "source": [
    "# Doing various operation on number of things \n",
    "# We can do various things using python function, then why do we use numpy because it is fast \n",
    "\n",
    "# Creating a very large array  \n",
    "\n",
    "massive_array = np.random.random(1000)\n",
    "massive_array[:10]"
   ]
  },
  {
   "cell_type": "code",
   "execution_count": 41,
   "id": "connected-freedom",
   "metadata": {},
   "outputs": [
    {
     "name": "stdout",
     "output_type": "stream",
     "text": [
      "Time used by python function\n",
      "172 µs ± 20 µs per loop (mean ± std. dev. of 7 runs, 1000 loops each)\n",
      "Time used by numpy \n",
      "6.43 µs ± 1.2 µs per loop (mean ± std. dev. of 7 runs, 100000 loops each)\n"
     ]
    }
   ],
   "source": [
    "# timeit is a magic function that is use to calucate the time of a particular line of code \n",
    "\n",
    "print(\"Time used by python function\")\n",
    "%timeit sum(massive_array)\n",
    "print(\"Time used by numpy \")\n",
    "%timeit np.sum(massive_array)\n"
   ]
  },
  {
   "cell_type": "code",
   "execution_count": 42,
   "id": "nonprofit-table",
   "metadata": {},
   "outputs": [],
   "source": [
    "# As you can see the time taken by numpy function is almost 20 times less than the time taken by python function\n",
    "# and in bigger calculation it will become more faster "
   ]
  },
  {
   "cell_type": "code",
   "execution_count": 43,
   "id": "dietary-virgin",
   "metadata": {},
   "outputs": [
    {
     "data": {
      "text/plain": [
       "array([1, 2, 3])"
      ]
     },
     "execution_count": 43,
     "metadata": {},
     "output_type": "execute_result"
    }
   ],
   "source": [
    "one_array"
   ]
  },
  {
   "cell_type": "code",
   "execution_count": 44,
   "id": "steady-conditions",
   "metadata": {},
   "outputs": [
    {
     "data": {
      "text/plain": [
       "0.816496580927726"
      ]
     },
     "execution_count": 44,
     "metadata": {},
     "output_type": "execute_result"
    }
   ],
   "source": [
    "# Standard deviation is the measure of how spread out a group of numbers is from the mean of the numbers \n",
    "# or by formula standard deviation is the square_root of the variance \n",
    "np.std(one_array)"
   ]
  },
  {
   "cell_type": "code",
   "execution_count": 45,
   "id": "limiting-advantage",
   "metadata": {},
   "outputs": [
    {
     "data": {
      "text/plain": [
       "0.6666666666666666"
      ]
     },
     "execution_count": 45,
     "metadata": {},
     "output_type": "execute_result"
    }
   ],
   "source": [
    "# Variance is the measure of the average degree to which each number is different to the mean \n",
    "# Easily speaking larger the variance, wider the range of data \n",
    "# Smaller variance, lower range of numbers \n",
    "np.var(one_array)"
   ]
  },
  {
   "cell_type": "code",
   "execution_count": 46,
   "id": "foster-organic",
   "metadata": {},
   "outputs": [
    {
     "data": {
      "text/plain": [
       "0.816496580927726"
      ]
     },
     "execution_count": 46,
     "metadata": {},
     "output_type": "execute_result"
    }
   ],
   "source": [
    "np.sqrt(np.var(one_array))"
   ]
  },
  {
   "cell_type": "code",
   "execution_count": 47,
   "id": "favorite-belfast",
   "metadata": {},
   "outputs": [],
   "source": [
    "#  Demo of standard deviation and variance \n",
    "high_variance = np.array([10,20,100,5000])\n",
    "# As we can see the difference of the numbers from their mean is really high\n",
    "small_variance = np.array([1,2,5,6,7])\n",
    "# The difference of the numbers from their mean is really low "
   ]
  },
  {
   "cell_type": "code",
   "execution_count": 48,
   "id": "checked-jones",
   "metadata": {},
   "outputs": [
    {
     "data": {
      "text/plain": [
       "4607818.75"
      ]
     },
     "execution_count": 48,
     "metadata": {},
     "output_type": "execute_result"
    }
   ],
   "source": [
    "np.var(high_variance) "
   ]
  },
  {
   "cell_type": "code",
   "execution_count": 49,
   "id": "neutral-literacy",
   "metadata": {},
   "outputs": [
    {
     "data": {
      "text/plain": [
       "5.36"
      ]
     },
     "execution_count": 49,
     "metadata": {},
     "output_type": "execute_result"
    }
   ],
   "source": [
    "np.var(small_variance)"
   ]
  },
  {
   "cell_type": "code",
   "execution_count": 50,
   "id": "satisfactory-joseph",
   "metadata": {},
   "outputs": [
    {
     "name": "stdout",
     "output_type": "stream",
     "text": [
      "2146.5830405553847\n",
      "2.3151673805580453\n"
     ]
    }
   ],
   "source": [
    "print(np.std(high_variance))\n",
    "\n",
    "print(np.std(small_variance ))"
   ]
  },
  {
   "cell_type": "code",
   "execution_count": 51,
   "id": "covered-mitchell",
   "metadata": {},
   "outputs": [
    {
     "data": {
      "text/plain": [
       "1282.5"
      ]
     },
     "execution_count": 51,
     "metadata": {},
     "output_type": "execute_result"
    }
   ],
   "source": [
    "# Standard deviation is the difference the numbers are away from the mean \n",
    "np.mean(high_variance)"
   ]
  },
  {
   "cell_type": "code",
   "execution_count": 52,
   "id": "instrumental-radius",
   "metadata": {},
   "outputs": [],
   "source": [
    "%matplotlib inline \n",
    "import matplotlib.pyplot as plt "
   ]
  },
  {
   "cell_type": "code",
   "execution_count": 53,
   "id": "chinese-growing",
   "metadata": {},
   "outputs": [
    {
     "data": {
      "image/png": "[encoded data removed]",
      "text/plain": [
       "<Figure size 432x288 with 1 Axes>"
      ]
     },
     "metadata": {
      "needs_background": "light"
     },
     "output_type": "display_data"
    }
   ],
   "source": [
    "plt.hist(high_variance)\n",
    "plt.show()"
   ]
  },
  {
   "cell_type": "code",
   "execution_count": 54,
   "id": "indonesian-religion",
   "metadata": {},
   "outputs": [
    {
     "data": {
      "image/png": "[encoded data removed]",
      "text/plain": [
       "<Figure size 432x288 with 1 Axes>"
      ]
     },
     "metadata": {
      "needs_background": "light"
     },
     "output_type": "display_data"
    }
   ],
   "source": [
    "plt.hist(small_variance)\n",
    "plt.show()"
   ]
  },
  {
   "cell_type": "markdown",
   "id": "indonesian-stanley",
   "metadata": {},
   "source": [
    "### Reshaping and Transposing"
   ]
  },
  {
   "cell_type": "code",
   "execution_count": 55,
   "id": "better-national",
   "metadata": {},
   "outputs": [],
   "source": [
    "new_array= np.array([[1,2,3,4],\n",
    "                   [2,3,4,5]])"
   ]
  },
  {
   "cell_type": "code",
   "execution_count": 56,
   "id": "tropical-communications",
   "metadata": {},
   "outputs": [
    {
     "data": {
      "text/plain": [
       "(2, 4)"
      ]
     },
     "execution_count": 56,
     "metadata": {},
     "output_type": "execute_result"
    }
   ],
   "source": [
    "new_array.shape"
   ]
  },
  {
   "cell_type": "code",
   "execution_count": 57,
   "id": "prerequisite-crisis",
   "metadata": {},
   "outputs": [
    {
     "data": {
      "text/plain": [
       "(3, 3)"
      ]
     },
     "execution_count": 57,
     "metadata": {},
     "output_type": "execute_result"
    }
   ],
   "source": [
    "new_array_1 = np.array([[1,2,3],[2,3,4],[2,34,5]])\n",
    "new_array_1.shape"
   ]
  },
  {
   "cell_type": "code",
   "execution_count": 58,
   "id": "quality-grade",
   "metadata": {},
   "outputs": [
    {
     "ename": "ValueError",
     "evalue": "operands could not be broadcast together with shapes (2,4) (3,3) ",
     "output_type": "error",
     "traceback": [
      "\u001b[1;31m---------------------------------------------------------------------------\u001b[0m",
      "\u001b[1;31mValueError\u001b[0m                                Traceback (most recent call last)",
      "\u001b[1;32m<ipython-input-58-a1acfe21fe60>\u001b[0m in \u001b[0;36m<module>\u001b[1;34m\u001b[0m\n\u001b[1;32m----> 1\u001b[1;33m \u001b[0mnew_array\u001b[0m\u001b[1;33m*\u001b[0m\u001b[0mnew_array_1\u001b[0m\u001b[1;33m\u001b[0m\u001b[1;33m\u001b[0m\u001b[0m\n\u001b[0m",
      "\u001b[1;31mValueError\u001b[0m: operands could not be broadcast together with shapes (2,4) (3,3) "
     ]
    }
   ],
   "source": [
    "new_array*new_array_1"
   ]
  },
  {
   "cell_type": "code",
   "execution_count": null,
   "id": "figured-taylor",
   "metadata": {},
   "outputs": [],
   "source": [
    "# As you can see the arrays cannot be mulptilied because of their shape and size \n",
    "# We can change the shape of the array using the reshape function "
   ]
  },
  {
   "cell_type": "code",
   "execution_count": null,
   "id": "spectacular-twenty",
   "metadata": {},
   "outputs": [],
   "source": [
    "new_array.reshape((4,2,1))"
   ]
  },
  {
   "cell_type": "code",
   "execution_count": null,
   "id": "widespread-mercy",
   "metadata": {},
   "outputs": [],
   "source": [
    "# An array can only reshape when the size of the new array is same as the old array \n",
    "# In easy language the product of the old shape numbers should be equal to the new shape numbers \n"
   ]
  },
  {
   "cell_type": "code",
   "execution_count": 59,
   "id": "seasonal-constraint",
   "metadata": {},
   "outputs": [
    {
     "data": {
      "text/plain": [
       "array([[1, 2, 3, 4],\n",
       "       [2, 3, 4, 5]])"
      ]
     },
     "execution_count": 59,
     "metadata": {},
     "output_type": "execute_result"
    }
   ],
   "source": [
    "new_array"
   ]
  },
  {
   "cell_type": "code",
   "execution_count": 60,
   "id": "friendly-detector",
   "metadata": {},
   "outputs": [],
   "source": [
    "# Transpose of the matrix "
   ]
  },
  {
   "cell_type": "code",
   "execution_count": 62,
   "id": "complex-motion",
   "metadata": {},
   "outputs": [],
   "source": [
    "new_array_transpose = new_array.T"
   ]
  },
  {
   "cell_type": "code",
   "execution_count": 64,
   "id": "laughing-convenience",
   "metadata": {},
   "outputs": [
    {
     "name": "stdout",
     "output_type": "stream",
     "text": [
      "[[1 2 3 4]\n",
      " [2 3 4 5]]\n",
      "\n",
      "[[1 2]\n",
      " [2 3]\n",
      " [3 4]\n",
      " [4 5]]\n"
     ]
    }
   ],
   "source": [
    "print(new_array)\n",
    "print()\n",
    "print(new_array_transpose)"
   ]
  },
  {
   "cell_type": "code",
   "execution_count": 65,
   "id": "gothic-threat",
   "metadata": {},
   "outputs": [],
   "source": [
    "# As we can see the axis of the matrix has been changed \n"
   ]
  },
  {
   "cell_type": "code",
   "execution_count": 68,
   "id": "polar-phrase",
   "metadata": {},
   "outputs": [],
   "source": [
    "three_dimensional_array = np.array([[[2,3,4]\n",
    "                                     ,[5,6,7]]])"
   ]
  },
  {
   "cell_type": "code",
   "execution_count": 69,
   "id": "massive-france",
   "metadata": {},
   "outputs": [
    {
     "data": {
      "text/plain": [
       "(1, 2, 3)"
      ]
     },
     "execution_count": 69,
     "metadata": {},
     "output_type": "execute_result"
    }
   ],
   "source": [
    "three_dimensional_array.shape"
   ]
  },
  {
   "cell_type": "code",
   "execution_count": 70,
   "id": "cardiovascular-liberal",
   "metadata": {},
   "outputs": [
    {
     "data": {
      "text/plain": [
       "array([[[2, 3, 4],\n",
       "        [5, 6, 7]]])"
      ]
     },
     "execution_count": 70,
     "metadata": {},
     "output_type": "execute_result"
    }
   ],
   "source": [
    "three_dimensional_array"
   ]
  },
  {
   "cell_type": "code",
   "execution_count": 71,
   "id": "sharing-municipality",
   "metadata": {},
   "outputs": [],
   "source": [
    "three = three_dimensional_array.T"
   ]
  },
  {
   "cell_type": "code",
   "execution_count": 72,
   "id": "formal-chuck",
   "metadata": {},
   "outputs": [
    {
     "data": {
      "text/plain": [
       "(3, 2, 1)"
      ]
     },
     "execution_count": 72,
     "metadata": {},
     "output_type": "execute_result"
    }
   ],
   "source": [
    "three.shape"
   ]
  },
  {
   "cell_type": "code",
   "execution_count": 73,
   "id": "every-faith",
   "metadata": {},
   "outputs": [],
   "source": [
    "# So the transpose function reverses the shape of the array "
   ]
  },
  {
   "cell_type": "code",
   "execution_count": 74,
   "id": "improved-collaboration",
   "metadata": {},
   "outputs": [],
   "source": [
    "# So the main use of the transpose function is in the dot product "
   ]
  },
  {
   "cell_type": "markdown",
   "id": "thick-dallas",
   "metadata": {},
   "source": [
    "### DOT PRODUCT "
   ]
  },
  {
   "cell_type": "code",
   "execution_count": 86,
   "id": "returning-symphony",
   "metadata": {},
   "outputs": [],
   "source": [
    "np.random.seed(0)\n",
    "mat_1 = np.random.randint(10,size=(2,4))\n",
    "mat_2 = np.random.randint(10,size=(2,4))"
   ]
  },
  {
   "cell_type": "code",
   "execution_count": 87,
   "id": "alpine-zambia",
   "metadata": {},
   "outputs": [
    {
     "data": {
      "text/plain": [
       "array([[5, 0, 3, 3],\n",
       "       [7, 9, 3, 5]])"
      ]
     },
     "execution_count": 87,
     "metadata": {},
     "output_type": "execute_result"
    }
   ],
   "source": [
    "mat_1"
   ]
  },
  {
   "cell_type": "code",
   "execution_count": 88,
   "id": "acoustic-termination",
   "metadata": {},
   "outputs": [
    {
     "data": {
      "text/plain": [
       "array([[2, 4, 7, 6],\n",
       "       [8, 8, 1, 6]])"
      ]
     },
     "execution_count": 88,
     "metadata": {},
     "output_type": "execute_result"
    }
   ],
   "source": [
    "mat_2"
   ]
  },
  {
   "cell_type": "code",
   "execution_count": 89,
   "id": "demanding-warehouse",
   "metadata": {},
   "outputs": [
    {
     "data": {
      "text/plain": [
       "array([[10,  0, 21, 18],\n",
       "       [56, 72,  3, 30]])"
      ]
     },
     "execution_count": 89,
     "metadata": {},
     "output_type": "execute_result"
    }
   ],
   "source": [
    "mat_1*mat_2"
   ]
  },
  {
   "cell_type": "code",
   "execution_count": 90,
   "id": "joined-ecology",
   "metadata": {},
   "outputs": [],
   "source": [
    "# So the mupltiplication is known as the element wise multiplication \n"
   ]
  },
  {
   "cell_type": "code",
   "execution_count": 91,
   "id": "liked-sally",
   "metadata": {},
   "outputs": [],
   "source": [
    "# So dot product is normal multiplication of 2 matrix as we do in mathematics\n"
   ]
  },
  {
   "cell_type": "code",
   "execution_count": 92,
   "id": "painful-messaging",
   "metadata": {},
   "outputs": [
    {
     "ename": "ValueError",
     "evalue": "shapes (2,4) and (2,4) not aligned: 4 (dim 1) != 2 (dim 0)",
     "output_type": "error",
     "traceback": [
      "\u001b[1;31m---------------------------------------------------------------------------\u001b[0m",
      "\u001b[1;31mValueError\u001b[0m                                Traceback (most recent call last)",
      "\u001b[1;32m<ipython-input-92-cdfaead4e3e0>\u001b[0m in \u001b[0;36m<module>\u001b[1;34m\u001b[0m\n\u001b[1;32m----> 1\u001b[1;33m \u001b[0mnp\u001b[0m\u001b[1;33m.\u001b[0m\u001b[0mdot\u001b[0m\u001b[1;33m(\u001b[0m\u001b[0mmat_1\u001b[0m\u001b[1;33m,\u001b[0m\u001b[0mmat_2\u001b[0m\u001b[1;33m)\u001b[0m\u001b[1;33m\u001b[0m\u001b[1;33m\u001b[0m\u001b[0m\n\u001b[0m",
      "\u001b[1;32m<__array_function__ internals>\u001b[0m in \u001b[0;36mdot\u001b[1;34m(*args, **kwargs)\u001b[0m\n",
      "\u001b[1;31mValueError\u001b[0m: shapes (2,4) and (2,4) not aligned: 4 (dim 1) != 2 (dim 0)"
     ]
    }
   ],
   "source": [
    "np.dot(mat_1,mat_2)"
   ]
  },
  {
   "cell_type": "code",
   "execution_count": 93,
   "id": "terminal-membrane",
   "metadata": {},
   "outputs": [],
   "source": [
    "# As you can see we cannot multiply these two matrises because their dimension therefore we will transpose one of the matrises "
   ]
  },
  {
   "cell_type": "code",
   "execution_count": 94,
   "id": "pointed-vanilla",
   "metadata": {},
   "outputs": [
    {
     "data": {
      "text/plain": [
       "array([[2, 8],\n",
       "       [4, 8],\n",
       "       [7, 1],\n",
       "       [6, 6]])"
      ]
     },
     "execution_count": 94,
     "metadata": {},
     "output_type": "execute_result"
    }
   ],
   "source": [
    "mat_2.T"
   ]
  },
  {
   "cell_type": "code",
   "execution_count": 97,
   "id": "according-oxygen",
   "metadata": {},
   "outputs": [
    {
     "data": {
      "text/plain": [
       "array([[ 49,  61],\n",
       "       [101, 161]])"
      ]
     },
     "execution_count": 97,
     "metadata": {},
     "output_type": "execute_result"
    }
   ],
   "source": [
    "np.dot(mat_1,mat_2.T)"
   ]
  },
  {
   "cell_type": "code",
   "execution_count": 98,
   "id": "mounted-transcription",
   "metadata": {},
   "outputs": [
    {
     "data": {
      "text/plain": [
       "array([[66, 76, 42, 72],\n",
       "       [72, 72,  9, 54],\n",
       "       [30, 36, 24, 36],\n",
       "       [46, 52, 26, 48]])"
      ]
     },
     "execution_count": 98,
     "metadata": {},
     "output_type": "execute_result"
    }
   ],
   "source": [
    "# Or we can do \n",
    "np.dot(mat_1.T,mat_2)"
   ]
  },
  {
   "cell_type": "code",
   "execution_count": 100,
   "id": "instant-education",
   "metadata": {},
   "outputs": [],
   "source": [
    "# https://www.mathsisfun.com/algebra/matrix-multiplying.html\n",
    "# https://www.mathsisfun.com/data/standard-deviation.html\n",
    "# Here's a link for the matrix multiplication and standard deviation "
   ]
  },
  {
   "cell_type": "code",
   "execution_count": 101,
   "id": "unable-namibia",
   "metadata": {},
   "outputs": [],
   "source": [
    "# Dot product exam "
   ]
  },
  {
   "cell_type": "code",
   "execution_count": 107,
   "id": "blond-ferry",
   "metadata": {},
   "outputs": [],
   "source": [
    "np.random.seed(0)\n",
    "weekly_sales = np.random.randint(10,size =(5,3))"
   ]
  },
  {
   "cell_type": "code",
   "execution_count": 108,
   "id": "fitting-newsletter",
   "metadata": {},
   "outputs": [],
   "source": [
    "import pandas as pd \n",
    "# Creating a data frame for our data "
   ]
  },
  {
   "cell_type": "code",
   "execution_count": 112,
   "id": "fewer-porcelain",
   "metadata": {},
   "outputs": [],
   "source": [
    "data_frame = pd.DataFrame(weekly_sales, index = [\"Monday\",\"Tuesday\", \"Wednesday\", \"Thursday\", \"Friday\"], columns = \n",
    "                        [\" cashew_butter \" , \"Peanut_Butter\", \"Almond_butter\"] )\n"
   ]
  },
  {
   "cell_type": "code",
   "execution_count": 113,
   "id": "ecological-distinction",
   "metadata": {},
   "outputs": [
    {
     "data": {
      "text/html": [
       "<div>\n",
       "<style scoped>\n",
       "    .dataframe tbody tr th:only-of-type {\n",
       "        vertical-align: middle;\n",
       "    }\n",
       "\n",
       "    .dataframe tbody tr th {\n",
       "        vertical-align: top;\n",
       "    }\n",
       "\n",
       "    .dataframe thead th {\n",
       "        text-align: right;\n",
       "    }\n",
       "</style>\n",
       "<table border=\"1\" class=\"dataframe\">\n",
       "  <thead>\n",
       "    <tr style=\"text-align: right;\">\n",
       "      <th></th>\n",
       "      <th>cashew_butter</th>\n",
       "      <th>Peanut_Butter</th>\n",
       "      <th>Almond_butter</th>\n",
       "    </tr>\n",
       "  </thead>\n",
       "  <tbody>\n",
       "    <tr>\n",
       "      <th>Monday</th>\n",
       "      <td>5</td>\n",
       "      <td>0</td>\n",
       "      <td>3</td>\n",
       "    </tr>\n",
       "    <tr>\n",
       "      <th>Tuesday</th>\n",
       "      <td>3</td>\n",
       "      <td>7</td>\n",
       "      <td>9</td>\n",
       "    </tr>\n",
       "    <tr>\n",
       "      <th>Wednesday</th>\n",
       "      <td>3</td>\n",
       "      <td>5</td>\n",
       "      <td>2</td>\n",
       "    </tr>\n",
       "    <tr>\n",
       "      <th>Thursday</th>\n",
       "      <td>4</td>\n",
       "      <td>7</td>\n",
       "      <td>6</td>\n",
       "    </tr>\n",
       "    <tr>\n",
       "      <th>Friday</th>\n",
       "      <td>8</td>\n",
       "      <td>8</td>\n",
       "      <td>1</td>\n",
       "    </tr>\n",
       "  </tbody>\n",
       "</table>\n",
       "</div>"
      ],
      "text/plain": [
       "            cashew_butter   Peanut_Butter  Almond_butter\n",
       "Monday                   5              0              3\n",
       "Tuesday                  3              7              9\n",
       "Wednesday                3              5              2\n",
       "Thursday                 4              7              6\n",
       "Friday                   8              8              1"
      ]
     },
     "execution_count": 113,
     "metadata": {},
     "output_type": "execute_result"
    }
   ],
   "source": [
    "data_frame"
   ]
  },
  {
   "cell_type": "code",
   "execution_count": 115,
   "id": "adopted-beaver",
   "metadata": {},
   "outputs": [],
   "source": [
    "# So this data set show us the daily sales of different types of jars of butter \n",
    "# We will create prices of each jar "
   ]
  },
  {
   "cell_type": "code",
   "execution_count": 126,
   "id": "dietary-habitat",
   "metadata": {},
   "outputs": [
    {
     "data": {
      "text/plain": [
       "(3,)"
      ]
     },
     "execution_count": 126,
     "metadata": {},
     "output_type": "execute_result"
    }
   ],
   "source": [
    "price = np.array([5,4,3])\n",
    "price.shape"
   ]
  },
  {
   "cell_type": "code",
   "execution_count": 127,
   "id": "dress-greeting",
   "metadata": {},
   "outputs": [],
   "source": [
    "prices = pd.DataFrame(price.reshape(1,3) , index = [\"Prices\"], columns = [\" cashew_butter \" , \"Peanut_Butter\", \"Almond_butter\"])"
   ]
  },
  {
   "cell_type": "code",
   "execution_count": 128,
   "id": "representative-commonwealth",
   "metadata": {},
   "outputs": [
    {
     "data": {
      "text/html": [
       "<div>\n",
       "<style scoped>\n",
       "    .dataframe tbody tr th:only-of-type {\n",
       "        vertical-align: middle;\n",
       "    }\n",
       "\n",
       "    .dataframe tbody tr th {\n",
       "        vertical-align: top;\n",
       "    }\n",
       "\n",
       "    .dataframe thead th {\n",
       "        text-align: right;\n",
       "    }\n",
       "</style>\n",
       "<table border=\"1\" class=\"dataframe\">\n",
       "  <thead>\n",
       "    <tr style=\"text-align: right;\">\n",
       "      <th></th>\n",
       "      <th>cashew_butter</th>\n",
       "      <th>Peanut_Butter</th>\n",
       "      <th>Almond_butter</th>\n",
       "    </tr>\n",
       "  </thead>\n",
       "  <tbody>\n",
       "    <tr>\n",
       "      <th>Prices</th>\n",
       "      <td>5</td>\n",
       "      <td>4</td>\n",
       "      <td>3</td>\n",
       "    </tr>\n",
       "  </tbody>\n",
       "</table>\n",
       "</div>"
      ],
      "text/plain": [
       "         cashew_butter   Peanut_Butter  Almond_butter\n",
       "Prices                5              4              3"
      ]
     },
     "execution_count": 128,
     "metadata": {},
     "output_type": "execute_result"
    }
   ],
   "source": [
    "prices"
   ]
  },
  {
   "cell_type": "code",
   "execution_count": 129,
   "id": "nearby-garbage",
   "metadata": {},
   "outputs": [],
   "source": [
    "# So we have reshape the price matrix because the shape of the numpy array is (column , row )\n",
    "# but in real life data set it is (row, column)"
   ]
  },
  {
   "cell_type": "code",
   "execution_count": 130,
   "id": "circular-making",
   "metadata": {},
   "outputs": [],
   "source": [
    "total_sales = np.dot(weekly_sales, price)"
   ]
  },
  {
   "cell_type": "code",
   "execution_count": 131,
   "id": "palestinian-hanging",
   "metadata": {},
   "outputs": [
    {
     "data": {
      "text/plain": [
       "array([34, 70, 41, 66, 75])"
      ]
     },
     "execution_count": 131,
     "metadata": {},
     "output_type": "execute_result"
    }
   ],
   "source": [
    "total_sales"
   ]
  },
  {
   "cell_type": "code",
   "execution_count": 141,
   "id": "legendary-brush",
   "metadata": {},
   "outputs": [],
   "source": [
    "total_sale = pd.DataFrame (total_sales , index  = [\"Monday\",\"Tuesday\", \"Wednesday\", \"Thursday\", \"Friday\"] ,columns = [ \"Final price \"])"
   ]
  },
  {
   "cell_type": "code",
   "execution_count": 142,
   "id": "descending-subject",
   "metadata": {},
   "outputs": [
    {
     "data": {
      "text/html": [
       "<div>\n",
       "<style scoped>\n",
       "    .dataframe tbody tr th:only-of-type {\n",
       "        vertical-align: middle;\n",
       "    }\n",
       "\n",
       "    .dataframe tbody tr th {\n",
       "        vertical-align: top;\n",
       "    }\n",
       "\n",
       "    .dataframe thead th {\n",
       "        text-align: right;\n",
       "    }\n",
       "</style>\n",
       "<table border=\"1\" class=\"dataframe\">\n",
       "  <thead>\n",
       "    <tr style=\"text-align: right;\">\n",
       "      <th></th>\n",
       "      <th>Final price</th>\n",
       "    </tr>\n",
       "  </thead>\n",
       "  <tbody>\n",
       "    <tr>\n",
       "      <th>Monday</th>\n",
       "      <td>34</td>\n",
       "    </tr>\n",
       "    <tr>\n",
       "      <th>Tuesday</th>\n",
       "      <td>70</td>\n",
       "    </tr>\n",
       "    <tr>\n",
       "      <th>Wednesday</th>\n",
       "      <td>41</td>\n",
       "    </tr>\n",
       "    <tr>\n",
       "      <th>Thursday</th>\n",
       "      <td>66</td>\n",
       "    </tr>\n",
       "    <tr>\n",
       "      <th>Friday</th>\n",
       "      <td>75</td>\n",
       "    </tr>\n",
       "  </tbody>\n",
       "</table>\n",
       "</div>"
      ],
      "text/plain": [
       "           Final price \n",
       "Monday               34\n",
       "Tuesday              70\n",
       "Wednesday            41\n",
       "Thursday             66\n",
       "Friday               75"
      ]
     },
     "execution_count": 142,
     "metadata": {},
     "output_type": "execute_result"
    }
   ],
   "source": [
    "total_sale"
   ]
  },
  {
   "cell_type": "markdown",
   "id": "chief-green",
   "metadata": {},
   "source": [
    "### Comparison Operation "
   ]
  },
  {
   "cell_type": "code",
   "execution_count": 143,
   "id": "educational-compact",
   "metadata": {},
   "outputs": [
    {
     "data": {
      "text/plain": [
       "array([1, 2, 3])"
      ]
     },
     "execution_count": 143,
     "metadata": {},
     "output_type": "execute_result"
    }
   ],
   "source": [
    "array"
   ]
  },
  {
   "cell_type": "code",
   "execution_count": 145,
   "id": "substantial-analysis",
   "metadata": {},
   "outputs": [
    {
     "data": {
      "text/plain": [
       "array([[1, 2, 3],\n",
       "       [2, 3, 4]])"
      ]
     },
     "execution_count": 145,
     "metadata": {},
     "output_type": "execute_result"
    }
   ],
   "source": [
    "array_2"
   ]
  },
  {
   "cell_type": "code",
   "execution_count": 146,
   "id": "willing-hindu",
   "metadata": {},
   "outputs": [
    {
     "data": {
      "text/plain": [
       "array([[False, False, False],\n",
       "       [False, False, False]])"
      ]
     },
     "execution_count": 146,
     "metadata": {},
     "output_type": "execute_result"
    }
   ],
   "source": [
    "array > array_2"
   ]
  },
  {
   "cell_type": "code",
   "execution_count": 150,
   "id": "removed-wings",
   "metadata": {},
   "outputs": [],
   "source": [
    "types = array_2> array"
   ]
  },
  {
   "cell_type": "code",
   "execution_count": 152,
   "id": "clear-keeping",
   "metadata": {},
   "outputs": [
    {
     "data": {
      "text/plain": [
       "dtype('bool')"
      ]
     },
     "execution_count": 152,
     "metadata": {},
     "output_type": "execute_result"
    }
   ],
   "source": [
    "types.dtype"
   ]
  },
  {
   "cell_type": "markdown",
   "id": "personal-smart",
   "metadata": {},
   "source": [
    "### Sorting Array "
   ]
  },
  {
   "cell_type": "code",
   "execution_count": 166,
   "id": "alternative-estate",
   "metadata": {},
   "outputs": [],
   "source": [
    "rando_array = np.random.randint(10, size = (5,3))"
   ]
  },
  {
   "cell_type": "code",
   "execution_count": 167,
   "id": "compact-husband",
   "metadata": {},
   "outputs": [
    {
     "data": {
      "text/plain": [
       "array([[2, 3, 8],\n",
       "       [1, 3, 3],\n",
       "       [3, 7, 0],\n",
       "       [1, 9, 9],\n",
       "       [0, 4, 7]])"
      ]
     },
     "execution_count": 167,
     "metadata": {},
     "output_type": "execute_result"
    }
   ],
   "source": [
    "rando_array"
   ]
  },
  {
   "cell_type": "code",
   "execution_count": 168,
   "id": "polish-saudi",
   "metadata": {},
   "outputs": [],
   "source": [
    "new_rando_array  = np.sort(rando_array)"
   ]
  },
  {
   "cell_type": "code",
   "execution_count": 169,
   "id": "driving-contribution",
   "metadata": {},
   "outputs": [
    {
     "data": {
      "text/plain": [
       "array([[2, 3, 8],\n",
       "       [1, 3, 3],\n",
       "       [3, 7, 0],\n",
       "       [1, 9, 9],\n",
       "       [0, 4, 7]])"
      ]
     },
     "execution_count": 169,
     "metadata": {},
     "output_type": "execute_result"
    }
   ],
   "source": [
    "rando_array"
   ]
  },
  {
   "cell_type": "code",
   "execution_count": 170,
   "id": "julian-tension",
   "metadata": {},
   "outputs": [
    {
     "data": {
      "text/plain": [
       "array([[2, 3, 8],\n",
       "       [1, 3, 3],\n",
       "       [0, 3, 7],\n",
       "       [1, 9, 9],\n",
       "       [0, 4, 7]])"
      ]
     },
     "execution_count": 170,
     "metadata": {},
     "output_type": "execute_result"
    }
   ],
   "source": [
    "new_rando_array"
   ]
  },
  {
   "cell_type": "code",
   "execution_count": 171,
   "id": "federal-minimum",
   "metadata": {},
   "outputs": [
    {
     "data": {
      "text/plain": [
       "array([[0, 1, 2],\n",
       "       [0, 1, 2],\n",
       "       [0, 1, 2],\n",
       "       [0, 1, 2],\n",
       "       [0, 1, 2]], dtype=int64)"
      ]
     },
     "execution_count": 171,
     "metadata": {},
     "output_type": "execute_result"
    }
   ],
   "source": [
    "np.argsort(new_rando_array)"
   ]
  },
  {
   "cell_type": "code",
   "execution_count": 172,
   "id": "gross-cooking",
   "metadata": {},
   "outputs": [
    {
     "data": {
      "text/plain": [
       "array([[0, 1, 2],\n",
       "       [0, 1, 2],\n",
       "       [2, 0, 1],\n",
       "       [0, 1, 2],\n",
       "       [0, 1, 2]], dtype=int64)"
      ]
     },
     "execution_count": 172,
     "metadata": {},
     "output_type": "execute_result"
    }
   ],
   "source": [
    "np.argsort(rando_array)"
   ]
  },
  {
   "cell_type": "code",
   "execution_count": 173,
   "id": "better-madrid",
   "metadata": {},
   "outputs": [],
   "source": [
    "# SO argsort function gives us the original position of the numbers before sorting "
   ]
  },
  {
   "cell_type": "code",
   "execution_count": 175,
   "id": "fixed-flood",
   "metadata": {},
   "outputs": [
    {
     "data": {
      "text/plain": [
       "8"
      ]
     },
     "execution_count": 175,
     "metadata": {},
     "output_type": "execute_result"
    }
   ],
   "source": [
    "np.argmin(rando_array)"
   ]
  },
  {
   "cell_type": "code",
   "execution_count": 176,
   "id": "japanese-banks",
   "metadata": {},
   "outputs": [],
   "source": [
    "# So 8 is the postion of 0 in the rando_array "
   ]
  },
  {
   "cell_type": "markdown",
   "id": "velvet-metadata",
   "metadata": {},
   "source": [
    "### TURNING IMAGES TO NUMPY ARRAYS "
   ]
  },
  {
   "cell_type": "code",
   "execution_count": 188,
   "id": "dominant-parallel",
   "metadata": {},
   "outputs": [
    {
     "ename": "SyntaxError",
     "evalue": "invalid syntax (<ipython-input-188-560f3c623356>, line 1)",
     "output_type": "error",
     "traceback": [
      "\u001b[1;36m  File \u001b[1;32m\"<ipython-input-188-560f3c623356>\"\u001b[1;36m, line \u001b[1;32m1\u001b[0m\n\u001b[1;33m    <img src= \"images/dog-photo.png\"/>\u001b[0m\n\u001b[1;37m    ^\u001b[0m\n\u001b[1;31mSyntaxError\u001b[0m\u001b[1;31m:\u001b[0m invalid syntax\n"
     ]
    }
   ],
   "source": [
    "<img src= \"images/dog-photo.png\"/>"
   ]
  },
  {
   "cell_type": "code",
   "execution_count": null,
   "id": "hybrid-memphis",
   "metadata": {},
   "outputs": [],
   "source": []
  }
 ],
 "metadata": {
  "kernelspec": {
   "display_name": "Python 3",
   "language": "python",
   "name": "python3"
  },
  "language_info": {
   "codemirror_mode": {
    "name": "ipython",
    "version": 3
   },
   "file_extension": ".py",
   "mimetype": "text/x-python",
   "name": "python",
   "nbconvert_exporter": "python",
   "pygments_lexer": "ipython3",
   "version": "3.8.5"
  }
 },
 "nbformat": 4,
 "nbformat_minor": 5
}
