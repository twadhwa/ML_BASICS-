{
 "cells": [
  {
   "cell_type": "markdown",
   "id": "deluxe-tuner",
   "metadata": {},
   "source": [
    "# NUMPY "
   ]
  },
  {
   "cell_type": "markdown",
   "id": "compressed-review",
   "metadata": {},
   "source": [
    "## Why Numpy "
   ]
  },
  {
   "cell_type": "code",
   "execution_count": 1,
   "id": "hired-canadian",
   "metadata": {},
   "outputs": [],
   "source": [
    "# Numpy is a python library just as the list in python, but it is used more often as campare to the python list because --\n",
    "# 1) Numpy is written in C languge, a really fast language so numpy does the work fast as compare to list \n",
    "# 2) Machine only knows the binary language and with numpy its really easy to convert data to binary\n",
    "# 3) Numpy do vectorisation via broadcasting (easily speaking it avoid loops)\n",
    "# These reasons makes numpy suitable for machine learning and data science "
   ]
  },
  {
   "cell_type": "code",
   "execution_count": 2,
   "id": "inside-station",
   "metadata": {},
   "outputs": [],
   "source": [
    "import numpy as np "
   ]
  },
  {
   "cell_type": "markdown",
   "id": "lightweight-helping",
   "metadata": {},
   "source": [
    "## 1) Datatypes and Attributes "
   ]
  },
  {
   "cell_type": "code",
   "execution_count": 3,
   "id": "plastic-legislation",
   "metadata": {},
   "outputs": [
    {
     "data": {
      "text/plain": [
       "array([1, 2, 3])"
      ]
     },
     "execution_count": 3,
     "metadata": {},
     "output_type": "execute_result"
    }
   ],
   "source": [
    "# numpy basic data type is a ndarray \n",
    "array = np.array([1,2,3])\n",
    "array"
   ]
  },
  {
   "cell_type": "code",
   "execution_count": 4,
   "id": "imposed-temple",
   "metadata": {},
   "outputs": [
    {
     "data": {
      "text/plain": [
       "numpy.ndarray"
      ]
     },
     "execution_count": 4,
     "metadata": {},
     "output_type": "execute_result"
    }
   ],
   "source": [
    "type(array)"
   ]
  },
  {
   "cell_type": "code",
   "execution_count": 5,
   "id": "spectacular-suspect",
   "metadata": {},
   "outputs": [
    {
     "data": {
      "text/plain": [
       "array([[1, 2, 3],\n",
       "       [2, 3, 4]])"
      ]
     },
     "execution_count": 5,
     "metadata": {},
     "output_type": "execute_result"
    }
   ],
   "source": [
    "# 2 dimensional array \n",
    "array_2 = np.array([[1,2,3],\n",
    "                  [2,3,4]])\n",
    "array_2"
   ]
  },
  {
   "cell_type": "code",
   "execution_count": 6,
   "id": "billion-fountain",
   "metadata": {},
   "outputs": [
    {
     "data": {
      "text/plain": [
       "(2, 3)"
      ]
     },
     "execution_count": 6,
     "metadata": {},
     "output_type": "execute_result"
    }
   ],
   "source": [
    "# Shape is an attribute to check the rows and columns of the array \n",
    "array_2.shape"
   ]
  },
  {
   "cell_type": "code",
   "execution_count": 7,
   "id": "sharp-heather",
   "metadata": {},
   "outputs": [
    {
     "data": {
      "text/plain": [
       "array([[1, 2, 3],\n",
       "       [2, 3, 4],\n",
       "       [3, 4, 5]])"
      ]
     },
     "execution_count": 7,
     "metadata": {},
     "output_type": "execute_result"
    }
   ],
   "source": [
    "array_3 = np.array([[1,2,3],\n",
    "                   [2,3,4],\n",
    "                   [3,4,5]])\n",
    "array_3"
   ]
  },
  {
   "cell_type": "code",
   "execution_count": 8,
   "id": "rational-conference",
   "metadata": {},
   "outputs": [
    {
     "data": {
      "text/plain": [
       "(3, 3)"
      ]
     },
     "execution_count": 8,
     "metadata": {},
     "output_type": "execute_result"
    }
   ],
   "source": [
    "array_3.shape "
   ]
  },
  {
   "cell_type": "code",
   "execution_count": 9,
   "id": "chief-petersburg",
   "metadata": {},
   "outputs": [],
   "source": [
    "# A 3 dimensional array \n",
    "array_4 = np.array([[[1,2,3],\n",
    "                   [2,3,4]], \n",
    "                   \n",
    "                   [[12,13,14],\n",
    "                    [1,2,3]]])"
   ]
  },
  {
   "cell_type": "code",
   "execution_count": 10,
   "id": "fuzzy-cursor",
   "metadata": {},
   "outputs": [
    {
     "data": {
      "text/plain": [
       "array([[[ 1,  2,  3],\n",
       "        [ 2,  3,  4]],\n",
       "\n",
       "       [[12, 13, 14],\n",
       "        [ 1,  2,  3]]])"
      ]
     },
     "execution_count": 10,
     "metadata": {},
     "output_type": "execute_result"
    }
   ],
   "source": [
    "array_4"
   ]
  },
  {
   "cell_type": "code",
   "execution_count": 11,
   "id": "injured-essence",
   "metadata": {},
   "outputs": [
    {
     "data": {
      "text/plain": [
       "(2, 2, 3)"
      ]
     },
     "execution_count": 11,
     "metadata": {},
     "output_type": "execute_result"
    }
   ],
   "source": [
    "array_4.shape"
   ]
  },
  {
   "cell_type": "code",
   "execution_count": 12,
   "id": "listed-outside",
   "metadata": {},
   "outputs": [
    {
     "data": {
      "text/plain": [
       "(3,)"
      ]
     },
     "execution_count": 12,
     "metadata": {},
     "output_type": "execute_result"
    }
   ],
   "source": [
    "array.shape"
   ]
  },
  {
   "cell_type": "code",
   "execution_count": 13,
   "id": "atlantic-thesaurus",
   "metadata": {},
   "outputs": [
    {
     "data": {
      "text/plain": [
       "(1, 2, 3)"
      ]
     },
     "execution_count": 13,
     "metadata": {},
     "output_type": "execute_result"
    }
   ],
   "source": [
    "# ndim is a attribute to check the dimension of the array \n",
    "array.ndim , array_2.ndim , array_4.ndim"
   ]
  },
  {
   "cell_type": "code",
   "execution_count": 14,
   "id": "thick-athens",
   "metadata": {},
   "outputs": [
    {
     "name": "stdout",
     "output_type": "stream",
     "text": [
      "int32\n"
     ]
    },
    {
     "data": {
      "text/plain": [
       "3"
      ]
     },
     "execution_count": 14,
     "metadata": {},
     "output_type": "execute_result"
    }
   ],
   "source": [
    "# dtype to check the data type of the array \n",
    "# size to check the size of the arrary\n",
    "print(array.dtype)\n",
    "\n",
    "array.size"
   ]
  },
  {
   "cell_type": "code",
   "execution_count": 15,
   "id": "waiting-rogers",
   "metadata": {},
   "outputs": [],
   "source": [
    "# Creating a dataframe from a numpy array \n",
    "import pandas as pd "
   ]
  },
  {
   "cell_type": "code",
   "execution_count": 16,
   "id": "incoming-silly",
   "metadata": {},
   "outputs": [],
   "source": [
    "df = pd.DataFrame(array_3)"
   ]
  },
  {
   "cell_type": "code",
   "execution_count": 17,
   "id": "stainless-heart",
   "metadata": {},
   "outputs": [
    {
     "data": {
      "text/html": [
       "<div>\n",
       "<style scoped>\n",
       "    .dataframe tbody tr th:only-of-type {\n",
       "        vertical-align: middle;\n",
       "    }\n",
       "\n",
       "    .dataframe tbody tr th {\n",
       "        vertical-align: top;\n",
       "    }\n",
       "\n",
       "    .dataframe thead th {\n",
       "        text-align: right;\n",
       "    }\n",
       "</style>\n",
       "<table border=\"1\" class=\"dataframe\">\n",
       "  <thead>\n",
       "    <tr style=\"text-align: right;\">\n",
       "      <th></th>\n",
       "      <th>0</th>\n",
       "      <th>1</th>\n",
       "      <th>2</th>\n",
       "    </tr>\n",
       "  </thead>\n",
       "  <tbody>\n",
       "    <tr>\n",
       "      <th>0</th>\n",
       "      <td>1</td>\n",
       "      <td>2</td>\n",
       "      <td>3</td>\n",
       "    </tr>\n",
       "    <tr>\n",
       "      <th>1</th>\n",
       "      <td>2</td>\n",
       "      <td>3</td>\n",
       "      <td>4</td>\n",
       "    </tr>\n",
       "    <tr>\n",
       "      <th>2</th>\n",
       "      <td>3</td>\n",
       "      <td>4</td>\n",
       "      <td>5</td>\n",
       "    </tr>\n",
       "  </tbody>\n",
       "</table>\n",
       "</div>"
      ],
      "text/plain": [
       "   0  1  2\n",
       "0  1  2  3\n",
       "1  2  3  4\n",
       "2  3  4  5"
      ]
     },
     "execution_count": 17,
     "metadata": {},
     "output_type": "execute_result"
    }
   ],
   "source": [
    "df "
   ]
  },
  {
   "cell_type": "markdown",
   "id": "acquired-explosion",
   "metadata": {},
   "source": [
    "## 2) Creating Numpy arrays "
   ]
  },
  {
   "cell_type": "code",
   "execution_count": 18,
   "id": "fuzzy-literature",
   "metadata": {},
   "outputs": [],
   "source": [
    "# \"ones is a function to create an array of 1 of your own size\"\n",
    "ones = np.ones((2,3), dtype = int )"
   ]
  },
  {
   "cell_type": "code",
   "execution_count": 19,
   "id": "every-swiss",
   "metadata": {},
   "outputs": [
    {
     "data": {
      "text/plain": [
       "array([[1, 1, 1],\n",
       "       [1, 1, 1]])"
      ]
     },
     "execution_count": 19,
     "metadata": {},
     "output_type": "execute_result"
    }
   ],
   "source": [
    "ones "
   ]
  },
  {
   "cell_type": "code",
   "execution_count": 20,
   "id": "bearing-miller",
   "metadata": {},
   "outputs": [],
   "source": [
    "# Use shift and tab and click on the function to see the documentation of the function "
   ]
  },
  {
   "cell_type": "code",
   "execution_count": 21,
   "id": "surprising-trick",
   "metadata": {},
   "outputs": [
    {
     "data": {
      "text/plain": [
       "numpy.ndarray"
      ]
     },
     "execution_count": 21,
     "metadata": {},
     "output_type": "execute_result"
    }
   ],
   "source": [
    "type(ones)"
   ]
  },
  {
   "cell_type": "code",
   "execution_count": 22,
   "id": "meaningful-consolidation",
   "metadata": {},
   "outputs": [],
   "source": [
    "range_array = np.arange(0,10,2)"
   ]
  },
  {
   "cell_type": "code",
   "execution_count": 23,
   "id": "ongoing-enzyme",
   "metadata": {},
   "outputs": [
    {
     "data": {
      "text/plain": [
       "array([0, 2, 4, 6, 8])"
      ]
     },
     "execution_count": 23,
     "metadata": {},
     "output_type": "execute_result"
    }
   ],
   "source": [
    "# Function to create an array of the numbers in the given range \n",
    "range_array"
   ]
  },
  {
   "cell_type": "code",
   "execution_count": 24,
   "id": "aging-directive",
   "metadata": {},
   "outputs": [],
   "source": [
    "# random.randint is a function to create an array of the given size of with random number in the given range \n",
    "random_array = np.random.randint(0, 5 , size = (2,2))"
   ]
  },
  {
   "cell_type": "code",
   "execution_count": 25,
   "id": "premier-shopper",
   "metadata": {},
   "outputs": [
    {
     "data": {
      "text/plain": [
       "array([[0, 0],\n",
       "       [3, 1]])"
      ]
     },
     "execution_count": 25,
     "metadata": {},
     "output_type": "execute_result"
    }
   ],
   "source": [
    "random_array"
   ]
  },
  {
   "cell_type": "code",
   "execution_count": 26,
   "id": "arctic-acting",
   "metadata": {},
   "outputs": [
    {
     "data": {
      "text/plain": [
       "array([[0.45333008, 0.3995727 ],\n",
       "       [0.62040263, 0.55135297]])"
      ]
     },
     "execution_count": 26,
     "metadata": {},
     "output_type": "execute_result"
    }
   ],
   "source": [
    "# random.random is a function to create and array of given size with numbers in the range of  0 to 1 \n",
    "random__2 = np.random.random((2,2))\n",
    "random__2\n"
   ]
  },
  {
   "cell_type": "code",
   "execution_count": 27,
   "id": "dressed-discovery",
   "metadata": {},
   "outputs": [],
   "source": [
    "# So the number generated by the computer are not actual random numbers, they are psuedo random numbers \n",
    "# i.e they are genrated by an algorithm and that algorithm is based upon a number (any number) known as the seed \n",
    "\n",
    "# So using the function random.seed () we can generate same set random number again and again "
   ]
  },
  {
   "cell_type": "code",
   "execution_count": 28,
   "id": "inner-shakespeare",
   "metadata": {},
   "outputs": [],
   "source": [
    "np.random.seed(7)\n",
    "random_number_2 = np.random.randint(0,5,size = (4,4))"
   ]
  },
  {
   "cell_type": "code",
   "execution_count": 29,
   "id": "delayed-program",
   "metadata": {},
   "outputs": [
    {
     "data": {
      "text/plain": [
       "array([[4, 1, 3, 3],\n",
       "       [4, 1, 0, 1],\n",
       "       [2, 2, 0, 4],\n",
       "       [0, 4, 0, 3]])"
      ]
     },
     "execution_count": 29,
     "metadata": {},
     "output_type": "execute_result"
    }
   ],
   "source": [
    "random_number_2"
   ]
  },
  {
   "cell_type": "markdown",
   "id": "smoking-denial",
   "metadata": {},
   "source": [
    "## 3) Viewing arrays and matrices "
   ]
  },
  {
   "cell_type": "code",
   "execution_count": 30,
   "id": "wrapped-reform",
   "metadata": {},
   "outputs": [
    {
     "data": {
      "text/plain": [
       "array([0, 1, 2, 3, 4])"
      ]
     },
     "execution_count": 30,
     "metadata": {},
     "output_type": "execute_result"
    }
   ],
   "source": [
    "# Function to find the unique number in an array \n",
    "np.unique(random_number_2)"
   ]
  },
  {
   "cell_type": "markdown",
   "id": "compliant-cornell",
   "metadata": {},
   "source": [
    "## 4) Manipulating Arrays "
   ]
  },
  {
   "cell_type": "markdown",
   "id": "eight-compilation",
   "metadata": {},
   "source": [
    "### Arithemetic "
   ]
  },
  {
   "cell_type": "code",
   "execution_count": 31,
   "id": "sensitive-nigeria",
   "metadata": {},
   "outputs": [],
   "source": [
    "# Adding two arrays \n",
    "one_array = np.array([1,2,3])"
   ]
  },
  {
   "cell_type": "code",
   "execution_count": 32,
   "id": "civilian-consumer",
   "metadata": {},
   "outputs": [],
   "source": [
    "second_array = np.array([2,3,4])\n"
   ]
  },
  {
   "cell_type": "code",
   "execution_count": 33,
   "id": "rational-exploration",
   "metadata": {},
   "outputs": [
    {
     "data": {
      "text/plain": [
       "array([3, 5, 7])"
      ]
     },
     "execution_count": 33,
     "metadata": {},
     "output_type": "execute_result"
    }
   ],
   "source": [
    "one_array + second_array "
   ]
  },
  {
   "cell_type": "code",
   "execution_count": 34,
   "id": "parallel-situation",
   "metadata": {},
   "outputs": [
    {
     "data": {
      "text/plain": [
       "array([2, 3, 4])"
      ]
     },
     "execution_count": 34,
     "metadata": {},
     "output_type": "execute_result"
    }
   ],
   "source": [
    "one_array + 1 \n"
   ]
  },
  {
   "cell_type": "code",
   "execution_count": 37,
   "id": "flexible-polyester",
   "metadata": {},
   "outputs": [
    {
     "data": {
      "text/plain": [
       "array([3, 5, 5])"
      ]
     },
     "execution_count": 37,
     "metadata": {},
     "output_type": "execute_result"
    }
   ],
   "source": [
    "third_array = np.array ([2,3,2])\n",
    "one_array + third_array "
   ]
  },
  {
   "cell_type": "code",
   "execution_count": null,
   "id": "collaborative-domestic",
   "metadata": {},
   "outputs": [],
   "source": []
  }
 ],
 "metadata": {
  "kernelspec": {
   "display_name": "Python 3",
   "language": "python",
   "name": "python3"
  },
  "language_info": {
   "codemirror_mode": {
    "name": "ipython",
    "version": 3
   },
   "file_extension": ".py",
   "mimetype": "text/x-python",
   "name": "python",
   "nbconvert_exporter": "python",
   "pygments_lexer": "ipython3",
   "version": "3.8.5"
  }
 },
 "nbformat": 4,
 "nbformat_minor": 5
}
